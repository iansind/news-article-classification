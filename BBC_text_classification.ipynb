{
 "cells": [
  {
   "cell_type": "code",
   "execution_count": 56,
   "id": "69e08670",
   "metadata": {},
   "outputs": [],
   "source": [
    "import pandas as pd\n",
    "import numpy as np\n",
    "from sklearn.feature_extraction.text import TfidfVectorizer\n",
    "from sklearn.decomposition import NMF"
   ]
  },
  {
   "cell_type": "code",
   "execution_count": 57,
   "id": "ecd951a0",
   "metadata": {},
   "outputs": [],
   "source": [
    "df = pd.read_csv('BBC_News_Train.csv')"
   ]
  },
  {
   "cell_type": "code",
   "execution_count": 58,
   "id": "3dda5151",
   "metadata": {},
   "outputs": [
    {
     "data": {
      "text/html": [
       "<div>\n",
       "<style scoped>\n",
       "    .dataframe tbody tr th:only-of-type {\n",
       "        vertical-align: middle;\n",
       "    }\n",
       "\n",
       "    .dataframe tbody tr th {\n",
       "        vertical-align: top;\n",
       "    }\n",
       "\n",
       "    .dataframe thead th {\n",
       "        text-align: right;\n",
       "    }\n",
       "</style>\n",
       "<table border=\"1\" class=\"dataframe\">\n",
       "  <thead>\n",
       "    <tr style=\"text-align: right;\">\n",
       "      <th></th>\n",
       "      <th>ArticleId</th>\n",
       "      <th>Text</th>\n",
       "      <th>Category</th>\n",
       "    </tr>\n",
       "  </thead>\n",
       "  <tbody>\n",
       "    <tr>\n",
       "      <th>0</th>\n",
       "      <td>1833</td>\n",
       "      <td>worldcom ex-boss launches defence lawyers defe...</td>\n",
       "      <td>business</td>\n",
       "    </tr>\n",
       "    <tr>\n",
       "      <th>1</th>\n",
       "      <td>154</td>\n",
       "      <td>german business confidence slides german busin...</td>\n",
       "      <td>business</td>\n",
       "    </tr>\n",
       "    <tr>\n",
       "      <th>2</th>\n",
       "      <td>1101</td>\n",
       "      <td>bbc poll indicates economic gloom citizens in ...</td>\n",
       "      <td>business</td>\n",
       "    </tr>\n",
       "    <tr>\n",
       "      <th>3</th>\n",
       "      <td>1976</td>\n",
       "      <td>lifestyle  governs mobile choice  faster  bett...</td>\n",
       "      <td>tech</td>\n",
       "    </tr>\n",
       "    <tr>\n",
       "      <th>4</th>\n",
       "      <td>917</td>\n",
       "      <td>enron bosses in $168m payout eighteen former e...</td>\n",
       "      <td>business</td>\n",
       "    </tr>\n",
       "  </tbody>\n",
       "</table>\n",
       "</div>"
      ],
      "text/plain": [
       "   ArticleId                                               Text  Category\n",
       "0       1833  worldcom ex-boss launches defence lawyers defe...  business\n",
       "1        154  german business confidence slides german busin...  business\n",
       "2       1101  bbc poll indicates economic gloom citizens in ...  business\n",
       "3       1976  lifestyle  governs mobile choice  faster  bett...      tech\n",
       "4        917  enron bosses in $168m payout eighteen former e...  business"
      ]
     },
     "execution_count": 58,
     "metadata": {},
     "output_type": "execute_result"
    }
   ],
   "source": [
    "df.head()"
   ]
  },
  {
   "cell_type": "markdown",
   "id": "9f13d843",
   "metadata": {},
   "source": [
    "A quick look at the datatypes and counts indicate that there are zero null values, so no imputation will be required here."
   ]
  },
  {
   "cell_type": "code",
   "execution_count": 59,
   "id": "901a0e11",
   "metadata": {},
   "outputs": [
    {
     "name": "stdout",
     "output_type": "stream",
     "text": [
      "<class 'pandas.core.frame.DataFrame'>\n",
      "RangeIndex: 1490 entries, 0 to 1489\n",
      "Data columns (total 3 columns):\n",
      " #   Column     Non-Null Count  Dtype \n",
      "---  ------     --------------  ----- \n",
      " 0   ArticleId  1490 non-null   int64 \n",
      " 1   Text       1490 non-null   object\n",
      " 2   Category   1490 non-null   object\n",
      "dtypes: int64(1), object(2)\n",
      "memory usage: 35.0+ KB\n"
     ]
    }
   ],
   "source": [
    "df.info()"
   ]
  },
  {
   "cell_type": "markdown",
   "id": "a927f6dd",
   "metadata": {},
   "source": [
    "Assessing the counts of each category of the target variable indicates relatively balanced data. Paring of data to achieve balance will not be utilized here."
   ]
  },
  {
   "cell_type": "code",
   "execution_count": 60,
   "id": "21557af7",
   "metadata": {},
   "outputs": [
    {
     "data": {
      "text/plain": [
       "<AxesSubplot: >"
      ]
     },
     "execution_count": 60,
     "metadata": {},
     "output_type": "execute_result"
    },
    {
     "data": {
      "image/png": "[encoded data removed]",
      "text/plain": [
       "<Figure size 640x480 with 1 Axes>"
      ]
     },
     "metadata": {},
     "output_type": "display_data"
    }
   ],
   "source": [
    "df.Category.hist()"
   ]
  },
  {
   "cell_type": "markdown",
   "id": "78680574",
   "metadata": {},
   "source": [
    "It can be seen that the average word count is 414, with the word counts following a somewhat normal distribution with a fat right tail. Since there do not appear to be noticable sub-groupings based on word count, it will not be used as an attribute in generating models. "
   ]
  },
  {
   "cell_type": "code",
   "execution_count": 61,
   "id": "3e9a2c74",
   "metadata": {},
   "outputs": [
    {
     "name": "stdout",
     "output_type": "stream",
     "text": [
      "Mean word count:  414.04295302013423\n"
     ]
    },
    {
     "data": {
      "image/png": "[encoded data removed]",
      "text/plain": [
       "<Figure size 640x480 with 1 Axes>"
      ]
     },
     "metadata": {},
     "output_type": "display_data"
    }
   ],
   "source": [
    "word_counts = df.Text.str.split(' ').str.len()\n",
    "word_counts.hist(bins=50)\n",
    "print('Mean word count: ', word_counts.mean())"
   ]
  },
  {
   "cell_type": "markdown",
   "id": "d988052b",
   "metadata": {},
   "source": [
    "The text is vectorized to allow for processing by the models. An L1 loss function is used, as this should perform better on the more sparse natures of the vectorized data than the default L2 loss function. Both unigrams and bigrams (single words as well as two-word phrases) will be assessed. Stop words are not considered here. Additionally, the 5% of most common words will be filtered out. The 1% of least common words will also be filtered out to help prevent overfitting. Sublinear term frequency will be enabled as word counts follow a somewhat normal distribution as demonstrated above, and enabling this normalized these word counts by using their logs. "
   ]
  },
  {
   "cell_type": "code",
   "execution_count": 62,
   "id": "f420a20e",
   "metadata": {},
   "outputs": [
    {
     "name": "stdout",
     "output_type": "stream",
     "text": [
      "(1490, 3224)\n"
     ]
    },
    {
     "data": {
      "text/html": [
       "<div>\n",
       "<style scoped>\n",
       "    .dataframe tbody tr th:only-of-type {\n",
       "        vertical-align: middle;\n",
       "    }\n",
       "\n",
       "    .dataframe tbody tr th {\n",
       "        vertical-align: top;\n",
       "    }\n",
       "\n",
       "    .dataframe thead th {\n",
       "        text-align: right;\n",
       "    }\n",
       "</style>\n",
       "<table border=\"1\" class=\"dataframe\">\n",
       "  <thead>\n",
       "    <tr style=\"text-align: right;\">\n",
       "      <th></th>\n",
       "      <th>ArticleId</th>\n",
       "      <th>000</th>\n",
       "      <th>000 jobs</th>\n",
       "      <th>000 people</th>\n",
       "      <th>000 year</th>\n",
       "      <th>10</th>\n",
       "      <th>10 000</th>\n",
       "      <th>10 years</th>\n",
       "      <th>100</th>\n",
       "      <th>100 000</th>\n",
       "      <th>...</th>\n",
       "      <th>years ago</th>\n",
       "      <th>yen</th>\n",
       "      <th>yes</th>\n",
       "      <th>york</th>\n",
       "      <th>young</th>\n",
       "      <th>young people</th>\n",
       "      <th>younger</th>\n",
       "      <th>yukos</th>\n",
       "      <th>zealand</th>\n",
       "      <th>Category</th>\n",
       "    </tr>\n",
       "  </thead>\n",
       "  <tbody>\n",
       "    <tr>\n",
       "      <th>0</th>\n",
       "      <td>1833</td>\n",
       "      <td>0.000000</td>\n",
       "      <td>0.0</td>\n",
       "      <td>0.000000</td>\n",
       "      <td>0.0</td>\n",
       "      <td>0.000000</td>\n",
       "      <td>0.0</td>\n",
       "      <td>0.0</td>\n",
       "      <td>0.0</td>\n",
       "      <td>0.0</td>\n",
       "      <td>...</td>\n",
       "      <td>0.000000</td>\n",
       "      <td>0.0</td>\n",
       "      <td>0.0</td>\n",
       "      <td>0.008698</td>\n",
       "      <td>0.0</td>\n",
       "      <td>0.0</td>\n",
       "      <td>0.000000</td>\n",
       "      <td>0.0</td>\n",
       "      <td>0.0</td>\n",
       "      <td>business</td>\n",
       "    </tr>\n",
       "    <tr>\n",
       "      <th>1</th>\n",
       "      <td>154</td>\n",
       "      <td>0.000000</td>\n",
       "      <td>0.0</td>\n",
       "      <td>0.000000</td>\n",
       "      <td>0.0</td>\n",
       "      <td>0.005178</td>\n",
       "      <td>0.0</td>\n",
       "      <td>0.0</td>\n",
       "      <td>0.0</td>\n",
       "      <td>0.0</td>\n",
       "      <td>...</td>\n",
       "      <td>0.000000</td>\n",
       "      <td>0.0</td>\n",
       "      <td>0.0</td>\n",
       "      <td>0.000000</td>\n",
       "      <td>0.0</td>\n",
       "      <td>0.0</td>\n",
       "      <td>0.000000</td>\n",
       "      <td>0.0</td>\n",
       "      <td>0.0</td>\n",
       "      <td>business</td>\n",
       "    </tr>\n",
       "    <tr>\n",
       "      <th>2</th>\n",
       "      <td>1101</td>\n",
       "      <td>0.003740</td>\n",
       "      <td>0.0</td>\n",
       "      <td>0.006639</td>\n",
       "      <td>0.0</td>\n",
       "      <td>0.000000</td>\n",
       "      <td>0.0</td>\n",
       "      <td>0.0</td>\n",
       "      <td>0.0</td>\n",
       "      <td>0.0</td>\n",
       "      <td>...</td>\n",
       "      <td>0.005999</td>\n",
       "      <td>0.0</td>\n",
       "      <td>0.0</td>\n",
       "      <td>0.000000</td>\n",
       "      <td>0.0</td>\n",
       "      <td>0.0</td>\n",
       "      <td>0.000000</td>\n",
       "      <td>0.0</td>\n",
       "      <td>0.0</td>\n",
       "      <td>business</td>\n",
       "    </tr>\n",
       "    <tr>\n",
       "      <th>3</th>\n",
       "      <td>1976</td>\n",
       "      <td>0.002956</td>\n",
       "      <td>0.0</td>\n",
       "      <td>0.000000</td>\n",
       "      <td>0.0</td>\n",
       "      <td>0.000000</td>\n",
       "      <td>0.0</td>\n",
       "      <td>0.0</td>\n",
       "      <td>0.0</td>\n",
       "      <td>0.0</td>\n",
       "      <td>...</td>\n",
       "      <td>0.004742</td>\n",
       "      <td>0.0</td>\n",
       "      <td>0.0</td>\n",
       "      <td>0.000000</td>\n",
       "      <td>0.0</td>\n",
       "      <td>0.0</td>\n",
       "      <td>0.010085</td>\n",
       "      <td>0.0</td>\n",
       "      <td>0.0</td>\n",
       "      <td>tech</td>\n",
       "    </tr>\n",
       "    <tr>\n",
       "      <th>4</th>\n",
       "      <td>917</td>\n",
       "      <td>0.000000</td>\n",
       "      <td>0.0</td>\n",
       "      <td>0.000000</td>\n",
       "      <td>0.0</td>\n",
       "      <td>0.004602</td>\n",
       "      <td>0.0</td>\n",
       "      <td>0.0</td>\n",
       "      <td>0.0</td>\n",
       "      <td>0.0</td>\n",
       "      <td>...</td>\n",
       "      <td>0.006944</td>\n",
       "      <td>0.0</td>\n",
       "      <td>0.0</td>\n",
       "      <td>0.000000</td>\n",
       "      <td>0.0</td>\n",
       "      <td>0.0</td>\n",
       "      <td>0.000000</td>\n",
       "      <td>0.0</td>\n",
       "      <td>0.0</td>\n",
       "      <td>business</td>\n",
       "    </tr>\n",
       "  </tbody>\n",
       "</table>\n",
       "<p>5 rows × 3224 columns</p>\n",
       "</div>"
      ],
      "text/plain": [
       "   ArticleId       000  000 jobs  000 people  000 year        10  10 000  \\\n",
       "0       1833  0.000000       0.0    0.000000       0.0  0.000000     0.0   \n",
       "1        154  0.000000       0.0    0.000000       0.0  0.005178     0.0   \n",
       "2       1101  0.003740       0.0    0.006639       0.0  0.000000     0.0   \n",
       "3       1976  0.002956       0.0    0.000000       0.0  0.000000     0.0   \n",
       "4        917  0.000000       0.0    0.000000       0.0  0.004602     0.0   \n",
       "\n",
       "   10 years  100  100 000  ...  years ago  yen  yes      york  young  \\\n",
       "0       0.0  0.0      0.0  ...   0.000000  0.0  0.0  0.008698    0.0   \n",
       "1       0.0  0.0      0.0  ...   0.000000  0.0  0.0  0.000000    0.0   \n",
       "2       0.0  0.0      0.0  ...   0.005999  0.0  0.0  0.000000    0.0   \n",
       "3       0.0  0.0      0.0  ...   0.004742  0.0  0.0  0.000000    0.0   \n",
       "4       0.0  0.0      0.0  ...   0.006944  0.0  0.0  0.000000    0.0   \n",
       "\n",
       "   young people   younger  yukos  zealand  Category  \n",
       "0           0.0  0.000000    0.0      0.0  business  \n",
       "1           0.0  0.000000    0.0      0.0  business  \n",
       "2           0.0  0.000000    0.0      0.0  business  \n",
       "3           0.0  0.010085    0.0      0.0      tech  \n",
       "4           0.0  0.000000    0.0      0.0  business  \n",
       "\n",
       "[5 rows x 3224 columns]"
      ]
     },
     "execution_count": 62,
     "metadata": {},
     "output_type": "execute_result"
    }
   ],
   "source": [
    "vect = TfidfVectorizer(sublinear_tf=True, norm='l1', min_df=0.01, max_df=0.95, ngram_range=(1,2), stop_words='english')\n",
    "vectX = vect.fit_transform(df.Text)\n",
    "\n",
    "vectX = vectX.toarray()\n",
    "df_vect = pd.DataFrame(vectX, columns=vect.get_feature_names_out())\n",
    "df_vect['Category'] = df.Category\n",
    "df_vect.insert(0, 'ArticleId', df.ArticleId, True)\n",
    "#df_vect.index = df.ArticleId\n",
    "\n",
    "print(df_vect.shape)\n",
    "df_vect.head()"
   ]
  },
  {
   "cell_type": "code",
   "execution_count": 63,
   "id": "88d12876",
   "metadata": {},
   "outputs": [
    {
     "data": {
      "text/plain": [
       "array(['business', 'tech', 'politics', 'sport', 'entertainment'],\n",
       "      dtype=object)"
      ]
     },
     "execution_count": 63,
     "metadata": {},
     "output_type": "execute_result"
    }
   ],
   "source": [
    "labels = df.Category.unique()\n",
    "labels"
   ]
  },
  {
   "cell_type": "code",
   "execution_count": 64,
   "id": "b223e1b2",
   "metadata": {},
   "outputs": [
    {
     "data": {
      "text/plain": [
       "array([[0.        , 0.        , 0.        , ..., 0.        , 0.        ,\n",
       "        0.        ],\n",
       "       [0.        , 0.        , 0.        , ..., 0.        , 0.        ,\n",
       "        0.        ],\n",
       "       [0.00373962, 0.        , 0.00663895, ..., 0.        , 0.        ,\n",
       "        0.        ],\n",
       "       ...,\n",
       "       [0.        , 0.        , 0.        , ..., 0.        , 0.        ,\n",
       "        0.        ],\n",
       "       [0.        , 0.        , 0.        , ..., 0.        , 0.        ,\n",
       "        0.        ],\n",
       "       [0.00595473, 0.        , 0.        , ..., 0.        , 0.        ,\n",
       "        0.        ]])"
      ]
     },
     "execution_count": 64,
     "metadata": {},
     "output_type": "execute_result"
    }
   ],
   "source": [
    "vectX"
   ]
  },
  {
   "cell_type": "code",
   "execution_count": 65,
   "id": "cfe7b1e9",
   "metadata": {},
   "outputs": [],
   "source": [
    "nmf_model = NMF(n_components=5, init='random', random_state=10)\n",
    "# Consider changing loss function\n",
    "W = nmf_model.fit_transform(vectX)\n",
    "H = nmf_model.components_"
   ]
  },
  {
   "cell_type": "markdown",
   "id": "6995e6db",
   "metadata": {},
   "source": [
    "A function built to determine the top n words per category. The categories as of now are unlabled, but it can be easily assumed which grouping belongs to which category. "
   ]
  },
  {
   "cell_type": "code",
   "execution_count": 66,
   "id": "2bf334a7",
   "metadata": {},
   "outputs": [
    {
     "name": "stdout",
     "output_type": "stream",
     "text": [
      "['game' 'win' 'match' 'england' 'cup']\n",
      "['film' 'best' 'awards' 'actor' 'award']\n",
      "['people' 'users' 'software' 'use' 'microsoft']\n",
      "['mr' 'labour' 'election' 'party' 'blair']\n",
      "['said' 'market' 'growth' 'year' 'company']\n"
     ]
    }
   ],
   "source": [
    "def max_impact_words(mat, word_names, num_words=5):\n",
    "    for cat in mat:\n",
    "        locs = cat.argsort()[-num_words:][::-1]\n",
    "        print(word_names[locs])\n",
    "\n",
    "words = vect.get_feature_names_out()     \n",
    "max_impact_words(H, word_names=words)"
   ]
  },
  {
   "cell_type": "code",
   "execution_count": 70,
   "id": "6bb8a71c",
   "metadata": {},
   "outputs": [
    {
     "data": {
      "text/plain": [
       "array([[1.83911948e-03, 3.47941742e-04, 3.31571391e-04, ...,\n",
       "        7.37760341e-05, 8.01336502e-04, 5.48210191e-05],\n",
       "       [2.48914698e-03, 6.35036681e-04, 4.63426780e-04, ...,\n",
       "        0.00000000e+00, 1.46671107e-03, 6.36860889e-05],\n",
       "       [1.78401884e-03, 3.08309123e-04, 3.35301602e-04, ...,\n",
       "        1.00145786e-04, 7.09846281e-04, 1.31033190e-04],\n",
       "       ...,\n",
       "       [2.41593496e-03, 6.04212029e-04, 4.45366875e-04, ...,\n",
       "        9.68317512e-06, 1.39551698e-03, 9.57704225e-05],\n",
       "       [2.27812615e-03, 1.18525309e-04, 5.32024897e-04, ...,\n",
       "        1.81306809e-04, 2.73751719e-04, 1.60340163e-05],\n",
       "       [2.49585135e-03, 0.00000000e+00, 6.33211744e-04, ...,\n",
       "        2.53157016e-04, 0.00000000e+00, 0.00000000e+00]])"
      ]
     },
     "execution_count": 70,
     "metadata": {},
     "output_type": "execute_result"
    }
   ],
   "source": [
    "Wpred = nmf_model.inverse_transform(W)\n",
    "Wpred"
   ]
  },
  {
   "cell_type": "code",
   "execution_count": 71,
   "id": "3f853fa6",
   "metadata": {},
   "outputs": [
    {
     "name": "stdout",
     "output_type": "stream",
     "text": [
      "(1490, 3222) (5, 3222)\n"
     ]
    }
   ],
   "source": [
    "print(Wpred.shape, H.shape)"
   ]
  },
  {
   "cell_type": "code",
   "execution_count": 72,
   "id": "4753826a",
   "metadata": {},
   "outputs": [
    {
     "data": {
      "text/plain": [
       "array([[0.00011631, 0.00353247, 0.00316117, 0.00894017, 0.02217619],\n",
       "       [0.        , 0.        , 0.        , 0.        , 0.04154405],\n",
       "       [0.00369197, 0.00117713, 0.0058866 , 0.00875573, 0.01959552],\n",
       "       ...,\n",
       "       [0.00143299, 0.00135507, 0.        , 0.        , 0.0395275 ],\n",
       "       [0.        , 0.00324897, 0.0355502 , 0.        , 0.00775392],\n",
       "       [0.        , 0.        , 0.05127058, 0.        , 0.        ]])"
      ]
     },
     "execution_count": 72,
     "metadata": {},
     "output_type": "execute_result"
    }
   ],
   "source": [
    "W"
   ]
  },
  {
   "cell_type": "code",
   "execution_count": 125,
   "id": "54e97ad3",
   "metadata": {},
   "outputs": [],
   "source": [
    "ordered_labels = {0:'sport', 1:'entertainment', 2:'tech', 3:'politics', 4:'business'}"
   ]
  },
  {
   "cell_type": "code",
   "execution_count": 75,
   "id": "758cf040",
   "metadata": {},
   "outputs": [
    {
     "data": {
      "text/plain": [
       "array([4, 4, 2, ..., 3, 4, 0], dtype=int64)"
      ]
     },
     "execution_count": 75,
     "metadata": {},
     "output_type": "execute_result"
    }
   ],
   "source": [
    "max_index = H.argmax(axis=0)\n",
    "max_index"
   ]
  },
  {
   "cell_type": "markdown",
   "id": "10814f2e",
   "metadata": {},
   "source": [
    "Takes a vectorized dataframe of ArticleId and word frequencies and predicts a category."
   ]
  },
  {
   "cell_type": "code",
   "execution_count": 122,
   "id": "e6084524",
   "metadata": {},
   "outputs": [
    {
     "data": {
      "text/html": [
       "<div>\n",
       "<style scoped>\n",
       "    .dataframe tbody tr th:only-of-type {\n",
       "        vertical-align: middle;\n",
       "    }\n",
       "\n",
       "    .dataframe tbody tr th {\n",
       "        vertical-align: top;\n",
       "    }\n",
       "\n",
       "    .dataframe thead th {\n",
       "        text-align: right;\n",
       "    }\n",
       "</style>\n",
       "<table border=\"1\" class=\"dataframe\">\n",
       "  <thead>\n",
       "    <tr style=\"text-align: right;\">\n",
       "      <th></th>\n",
       "      <th>ArticleId</th>\n",
       "      <th>Category</th>\n",
       "    </tr>\n",
       "  </thead>\n",
       "  <tbody>\n",
       "    <tr>\n",
       "      <th>0</th>\n",
       "      <td>1833</td>\n",
       "      <td>4</td>\n",
       "    </tr>\n",
       "    <tr>\n",
       "      <th>1</th>\n",
       "      <td>154</td>\n",
       "      <td>4</td>\n",
       "    </tr>\n",
       "    <tr>\n",
       "      <th>2</th>\n",
       "      <td>1101</td>\n",
       "      <td>4</td>\n",
       "    </tr>\n",
       "    <tr>\n",
       "      <th>3</th>\n",
       "      <td>1976</td>\n",
       "      <td>2</td>\n",
       "    </tr>\n",
       "    <tr>\n",
       "      <th>4</th>\n",
       "      <td>917</td>\n",
       "      <td>4</td>\n",
       "    </tr>\n",
       "    <tr>\n",
       "      <th>...</th>\n",
       "      <td>...</td>\n",
       "      <td>...</td>\n",
       "    </tr>\n",
       "    <tr>\n",
       "      <th>1485</th>\n",
       "      <td>857</td>\n",
       "      <td>0</td>\n",
       "    </tr>\n",
       "    <tr>\n",
       "      <th>1486</th>\n",
       "      <td>325</td>\n",
       "      <td>1</td>\n",
       "    </tr>\n",
       "    <tr>\n",
       "      <th>1487</th>\n",
       "      <td>1590</td>\n",
       "      <td>4</td>\n",
       "    </tr>\n",
       "    <tr>\n",
       "      <th>1488</th>\n",
       "      <td>1587</td>\n",
       "      <td>2</td>\n",
       "    </tr>\n",
       "    <tr>\n",
       "      <th>1489</th>\n",
       "      <td>538</td>\n",
       "      <td>2</td>\n",
       "    </tr>\n",
       "  </tbody>\n",
       "</table>\n",
       "<p>1490 rows × 2 columns</p>\n",
       "</div>"
      ],
      "text/plain": [
       "      ArticleId  Category\n",
       "0          1833         4\n",
       "1           154         4\n",
       "2          1101         4\n",
       "3          1976         2\n",
       "4           917         4\n",
       "...         ...       ...\n",
       "1485        857         0\n",
       "1486        325         1\n",
       "1487       1590         4\n",
       "1488       1587         2\n",
       "1489        538         2\n",
       "\n",
       "[1490 rows x 2 columns]"
      ]
     },
     "execution_count": 122,
     "metadata": {},
     "output_type": "execute_result"
    }
   ],
   "source": [
    "def nmf_predict(dataframe):\n",
    "    IDs = dataframe.ArticleId\n",
    "    df_calc = dataframe.iloc[:, 1:]\n",
    "    calcs = np.dot(H, np.transpose(df_calc))\n",
    "    best = calcs.argmax(axis=0)\n",
    "    data = {'ArticleId': IDs, 'Category': best}\n",
    "    return pd.DataFrame(data)\n",
    "    \n",
    "preds = nmf_predict(df_vect.iloc[:, :-1])\n",
    "preds"
   ]
  },
  {
   "cell_type": "code",
   "execution_count": 121,
   "id": "bb73b353",
   "metadata": {},
   "outputs": [],
   "source": [
    "z = df_vect.iloc[:, :-1]\n",
    "#z.iloc[:, 1:]"
   ]
  },
  {
   "cell_type": "code",
   "execution_count": 129,
   "id": "8ac87a31",
   "metadata": {},
   "outputs": [],
   "source": [
    "preds = preds.replace({'Category':ordered_labels})"
   ]
  },
  {
   "cell_type": "code",
   "execution_count": 133,
   "id": "58055053",
   "metadata": {},
   "outputs": [
    {
     "data": {
      "text/plain": [
       "0.9140939597315436"
      ]
     },
     "execution_count": 133,
     "metadata": {},
     "output_type": "execute_result"
    }
   ],
   "source": [
    "vals = preds.Category == df.Category\n",
    "vals.sum() / vals.count()"
   ]
  },
  {
   "cell_type": "code",
   "execution_count": null,
   "id": "f28dd9e7",
   "metadata": {},
   "outputs": [],
   "source": []
  }
 ],
 "metadata": {
  "kernelspec": {
   "display_name": "Python 3 (ipykernel)",
   "language": "python",
   "name": "python3"
  },
  "language_info": {
   "codemirror_mode": {
    "name": "ipython",
    "version": 3
   },
   "file_extension": ".py",
   "mimetype": "text/x-python",
   "name": "python",
   "nbconvert_exporter": "python",
   "pygments_lexer": "ipython3",
   "version": "3.10.1"
  }
 },
 "nbformat": 4,
 "nbformat_minor": 5
}
